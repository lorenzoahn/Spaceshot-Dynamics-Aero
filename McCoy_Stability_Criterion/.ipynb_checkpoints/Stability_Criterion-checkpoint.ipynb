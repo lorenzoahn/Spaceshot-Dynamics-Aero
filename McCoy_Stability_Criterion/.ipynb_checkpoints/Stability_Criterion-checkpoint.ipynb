{
 "cells": [
  {
   "cell_type": "code",
   "execution_count": 1,
   "metadata": {},
   "outputs": [],
   "source": [
    "import sys\n",
    "import numpy as np\n",
    "import matplotlib.pyplot as plt\n",
    "from extract_data import get_column, get_thrust, get_rocket\n",
    "from utility import get_data, get_spin"
   ]
  },
  {
   "cell_type": "markdown",
   "metadata": {},
   "source": [
    "#### Rocket Parameters\n",
    "We need to know a few properties of the specific rocket in quesiton. An excel file is available in this folder with slots for the parameters in quesition. Save is a csv and copy the name below"
   ]
  },
  {
   "cell_type": "code",
   "execution_count": 2,
   "metadata": {},
   "outputs": [],
   "source": [
    "rocket = get_rocket('Marvin.csv')"
   ]
  },
  {
   "cell_type": "markdown",
   "metadata": {},
   "source": [
    "#### Approximating a Flight Profile\n",
    "All of these calculations are dependent on having accurate time and acceleration data. From there we can find the velocity, position, air density - everything we need to figure out how fast we need to spin save the actual rocket geometry. There are two options for how to get this data\n",
    "1. Use actual flight data from Thunderguppy. If that's the case you can decide which sensor to use based off of orientation\n",
    "\n",
    "\n",
    "| Column Code | Value |\n",
    "| ------ | ----- |\n",
    "| 0 | time | \n",
    "| 1 | adxl x-accel | \n",
    "| 2 | adxl y-accel |\n",
    "| 3 | axl1 z-accel | \n",
    "| 4 | bmi x-accel |\n",
    "| 5 | bmi y-accel | \n",
    "| 6 | bmi z-accel |\n",
    "\n",
    "2. Plug in a thrust curve for the motor used (you can find these online)"
   ]
  },
  {
   "cell_type": "code",
   "execution_count": 2,
   "metadata": {},
   "outputs": [
    {
     "ename": "NameError",
     "evalue": "name 'raw_input' is not defined",
     "output_type": "error",
     "traceback": [
      "\u001b[1;31m---------------------------------------------------------------------------\u001b[0m",
      "\u001b[1;31mNameError\u001b[0m                                 Traceback (most recent call last)",
      "\u001b[1;32m<ipython-input-2-a17345c9fa07>\u001b[0m in \u001b[0;36m<module>\u001b[1;34m\u001b[0m\n\u001b[0;32m      1\u001b[0m \u001b[0mfile\u001b[0m \u001b[1;33m=\u001b[0m \u001b[0mopen\u001b[0m\u001b[1;33m(\u001b[0m\u001b[1;34m\"15-2-2020-trim.txt\"\u001b[0m\u001b[1;33m)\u001b[0m\u001b[1;33m\u001b[0m\u001b[1;33m\u001b[0m\u001b[0m\n\u001b[1;32m----> 2\u001b[1;33m \u001b[1;32mif\u001b[0m \u001b[0mraw_input\u001b[0m\u001b[1;33m(\u001b[0m\u001b[1;34m\"Thrust curve? \"\u001b[0m\u001b[1;33m)\u001b[0m \u001b[1;33m==\u001b[0m \u001b[1;34m'y'\u001b[0m\u001b[1;33m:\u001b[0m\u001b[1;33m\u001b[0m\u001b[1;33m\u001b[0m\u001b[0m\n\u001b[0m\u001b[0;32m      3\u001b[0m     \u001b[0mtime\u001b[0m\u001b[1;33m,\u001b[0m \u001b[0maccel\u001b[0m \u001b[1;33m=\u001b[0m \u001b[0mget_thrust\u001b[0m\u001b[1;33m(\u001b[0m\u001b[0mfile\u001b[0m\u001b[1;33m,\u001b[0m \u001b[0mrocket\u001b[0m\u001b[1;33m[\u001b[0m\u001b[1;34m'Total Weight'\u001b[0m\u001b[1;33m]\u001b[0m\u001b[1;33m)\u001b[0m\u001b[1;33m\u001b[0m\u001b[1;33m\u001b[0m\u001b[0m\n\u001b[0;32m      4\u001b[0m     \u001b[0maccel\u001b[0m \u001b[1;33m=\u001b[0m \u001b[0mnp\u001b[0m\u001b[1;33m.\u001b[0m\u001b[0masarray\u001b[0m\u001b[1;33m(\u001b[0m\u001b[0maccel\u001b[0m\u001b[1;33m)\u001b[0m\u001b[1;33m\u001b[0m\u001b[1;33m\u001b[0m\u001b[0m\n\u001b[0;32m      5\u001b[0m \u001b[1;32melse\u001b[0m\u001b[1;33m:\u001b[0m\u001b[1;33m\u001b[0m\u001b[1;33m\u001b[0m\u001b[0m\n",
      "\u001b[1;31mNameError\u001b[0m: name 'raw_input' is not defined"
     ]
    }
   ],
   "source": [
    "file = open(\"15-2-2020-trim.txt\")\n",
    "if raw_input(\"Thrust curve? \") == 'y':\n",
    "    time, accel = get_thrust(file, rocket['Total Weight'])\n",
    "    time = np.asarray(time)\n",
    "    accel = np.asarray(accel)\n",
    "    #adjust for variable mass\n",
    "    variable_mass = get_mass(time, rocket)\n",
    "    np.divide(np.multiply(accel, rocket['Total Weight']), variable_mass);\n",
    "else:\n",
    "    time, accel = get_column(file, 5)\n",
    "    accel = -1 * np.asarray(accel) + 9.8\n",
    "    time = np.asarray(time)"
   ]
  },
  {
   "cell_type": "markdown",
   "metadata": {},
   "source": [
    "#### Get Start Time\n",
    "The lines below are to help you get the start and end times for motor burn, since we only have to stay stable during this time. If the rocket's miraculously stayed straight through that it'll probably keep going in the same direction"
   ]
  },
  {
   "cell_type": "code",
   "execution_count": null,
   "metadata": {},
   "outputs": [],
   "source": [
    "start = 0\n",
    "end = len(accel)\n",
    "plt.plot(time[start:end], accel[start:end])\n",
    "plt.show()\n",
    "while True:    \n",
    "    start = np.argmax(time > input(\"Approximately when does ignition occur: \"))\n",
    "    end = np.argmax(time > input(\"When does motor burn end?: \"))\n",
    "    \n",
    "    plt.plot(time[start:end], accel[start:end])\n",
    "    plt.show()\n",
    "    \n",
    "    if raw_input(\"Press q to stop: \") == 'q':\n",
    "        break        \n",
    "time = time[start:end] - time[start]\n",
    "accel = accel[start:end]"
   ]
  },
  {
   "cell_type": "markdown",
   "metadata": {},
   "source": [
    "#### Model Environment\n",
    "Acceleration data is used to get velocity, altitude, and air density. Check the graphs for accuracy\n",
    "<br>\n",
    "<div align='middle'>\n",
    "    $v(t)=\\int_{start}^{t}{a(t')dt'} + v_0$\n",
    "    <br>\n",
    "    $x(t)=\\int_{start}^{t}{x(t')dt'} + x_0$\n",
    "    <br>\n",
    "    $\\rho=\\rho_b\\bigg[\\frac{T_b}{T_b+L_b*(x(t)-x_0)}\\bigg]^{1+\\frac{g_0\\cdot M}{R\\cdot L_b}}$"
   ]
  },
  {
   "cell_type": "code",
   "execution_count": null,
   "metadata": {},
   "outputs": [],
   "source": [
    "vel, altit, rho = get_data(time, accel)\n",
    "\n",
    "plt.subplot(311)\n",
    "plt.xlabel('Time (s)')\n",
    "plt.ylabel('Velocity (m/s)')\n",
    "plt.plot(time, vel, label='')\n",
    "\n",
    "plt.subplot(313)\n",
    "plt.plot(time, altit, label='altitude', color='tab:blue')\n",
    "plt.xlabel('Time (s)')\n",
    "plt.ylabel('Altitude (m)')\n",
    "plt2 = plt.twinx()\n",
    "plt2.set_ylabel('Air Density(kg/m^3)')\n",
    "plt.plot(time, rho, label='air density', color='tab:red')\n",
    "\n",
    "plt.show()"
   ]
  },
  {
   "cell_type": "markdown",
   "metadata": {},
   "source": [
    "#### Done!\n",
    "Using all of the information above we can calculate a *minimum* threshold for spin stability and compare it to the values recorded\n",
    "<div align='middle'>\n",
    "    $p>\\frac{V}{I_x}\\sqrt{2\\rho SdC_{M_\\alpha}I_y}$"
   ]
  },
  {
   "cell_type": "code",
   "execution_count": 6,
   "metadata": {
    "scrolled": true
   },
   "outputs": [
    {
     "name": "stderr",
     "output_type": "stream",
     "text": [
      "utility.py:27: RuntimeWarning: invalid value encountered in sqrt\n",
      "  return [vel[i] / rocket['I_x'] * np.sqrt(2 * rho[i] * rocket['I_y'] * rocket['Surface Area'] * rocket['Calipers'] * rocket['Diameter']) for i in range(len(vel))]\n"
     ]
    },
    {
     "data": {
      "text/plain": [
       "[<matplotlib.lines.Line2D at 0x9200d30>]"
      ]
     },
     "execution_count": 6,
     "metadata": {},
     "output_type": "execute_result"
    },
    {
     "data": {
      "image/png": "[encoded data removed]",
      "text/plain": [
       "<Figure size 432x288 with 1 Axes>"
      ]
     },
     "metadata": {
      "needs_background": "light"
     },
     "output_type": "display_data"
    }
   ],
   "source": [
    "min_spin = get_spin(vel, rho, rocket)\n",
    "\n",
    "plt.xlabel('Time (s)')\n",
    "plt.ylabel('Spin Rate (rad/s)')\n",
    "plt.plot(time, min_spin)"
   ]
  },
  {
   "cell_type": "code",
   "execution_count": null,
   "metadata": {},
   "outputs": [],
   "source": []
  }
 ],
 "metadata": {
  "kernelspec": {
   "display_name": "Python 3",
   "language": "python",
   "name": "python3"
  },
  "language_info": {
   "codemirror_mode": {
    "name": "ipython",
    "version": 3
   },
   "file_extension": ".py",
   "mimetype": "text/x-python",
   "name": "python",
   "nbconvert_exporter": "python",
   "pygments_lexer": "ipython3",
   "version": "3.8.1"
  }
 },
 "nbformat": 4,
 "nbformat_minor": 2
}
